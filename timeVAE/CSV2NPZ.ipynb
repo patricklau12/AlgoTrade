{
 "cells": [
  {
   "cell_type": "code",
   "execution_count": 37,
   "metadata": {},
   "outputs": [
    {
     "name": "stdout",
     "output_type": "stream",
     "text": [
      "(3661, 144)\n",
      "(3661, 24, 6)\n",
      "(3661, 24, 6)\n"
     ]
    }
   ],
   "source": [
    "import numpy as np\n",
    "import pandas as pd\n",
    "\n",
    "# Load and preprocess the data\n",
    "data = pd.read_csv('./datasets/stock_data_24.csv')\n",
    "print(data.shape)\n",
    "data_array = data.to_numpy().reshape(data.shape[0], -1, 6)\n",
    "print(data_array.shape)\n",
    "# Determine the number of samples for 20% of the data\n",
    "num_samples = data_array.shape[0]  # total number of samples\n",
    "train_size = int(num_samples * 1)  # 20% of the total number of samples\n",
    "\n",
    "# Split the data\n",
    "train_data = data_array[:train_size]  # select the first 20% of the data for training\n",
    "print(train_data.shape)\n"
   ]
  },
  {
   "cell_type": "code",
   "execution_count": 39,
   "metadata": {},
   "outputs": [
    {
     "name": "stdout",
     "output_type": "stream",
     "text": [
      "variable name: data  type: float64  shape:(3661, 24, 6)\n"
     ]
    }
   ],
   "source": [
    "# Save the train data to an .npz file for later use in the VAE\n",
    "np.savez_compressed('./datasets/stocks_subsampled_train_perc_100.npz', data=data)\n",
    "a = np.load('./datasets/stocks_subsampled_train_perc_100.npz')\n",
    "for key in a.keys():\n",
    "    print(\"variable name:\", key          , end=\"  \")\n",
    "    print(\"type: \"+ str(a[key].dtype) , end=\"  \")\n",
    "    print(\"shape:\"+ str(a[key].shape))"
   ]
  },
  {
   "cell_type": "code",
   "execution_count": 40,
   "metadata": {},
   "outputs": [],
   "source": [
    "np.savez_compressed('stocks_subsampled_train_perc_100.npz', data=data)"
   ]
  },
  {
   "cell_type": "code",
   "execution_count": 42,
   "metadata": {},
   "outputs": [
    {
     "name": "stdout",
     "output_type": "stream",
     "text": [
      "['data']\n",
      "variable name: data  type: float64  shape:(3661, 24, 6)\n"
     ]
    }
   ],
   "source": [
    "archive = np.load('./datasets/stocks_subsampled_train_perc_100.npz')\n",
    "print(list(archive.files))  # This will print all the keys in the .npz file\n",
    "for key in archive.keys():\n",
    "    print(\"variable name:\", key          , end=\"  \")\n",
    "    print(\"type: \"+ str(archive[key].dtype) , end=\"  \")\n",
    "    print(\"shape:\"+ str(archive[key].shape))"
   ]
  }
 ],
 "metadata": {
  "kernelspec": {
   "display_name": "timeVAE",
   "language": "python",
   "name": "python3"
  },
  "language_info": {
   "codemirror_mode": {
    "name": "ipython",
    "version": 3
   },
   "file_extension": ".py",
   "mimetype": "text/x-python",
   "name": "python",
   "nbconvert_exporter": "python",
   "pygments_lexer": "ipython3",
   "version": "3.11.8"
  }
 },
 "nbformat": 4,
 "nbformat_minor": 2
}
