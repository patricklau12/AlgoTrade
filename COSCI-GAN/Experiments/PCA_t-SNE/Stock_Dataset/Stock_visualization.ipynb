{
 "cells": [
  {
   "cell_type": "code",
   "execution_count": 14,
   "metadata": {},
   "outputs": [],
   "source": [
    "from sklearn.manifold import TSNE\n",
    "from sklearn.decomposition import PCA\n",
    "import matplotlib.pyplot as plt\n",
    "import numpy as np\n",
    "import pandas as pd"
   ]
  },
  {
   "cell_type": "code",
   "execution_count": 15,
   "metadata": {},
   "outputs": [],
   "source": [
    "# from TimeGAN repository : https://github.com/jsyoon0823/TimeGAN/blob/master/metrics/visualization_metrics.py\n",
    "def visualization (ori_data, generated_data, analysis):\n",
    "  \"\"\"Using PCA or tSNE for generated and original data visualization.\n",
    "  \n",
    "  Args:\n",
    "    - ori_data: original data\n",
    "    - generated_data: generated synthetic data\n",
    "    - analysis: tsne or pca\n",
    "  \"\"\"  \n",
    "  # Analysis sample size (for faster computation)\n",
    "  anal_sample_no = min([1000, len(ori_data)])\n",
    "  idx = np.random.permutation(len(ori_data))[:anal_sample_no]\n",
    "    \n",
    "  # Data preprocessing\n",
    "  ori_data = np.asarray(ori_data)\n",
    "  generated_data = np.asarray(generated_data)  \n",
    "  \n",
    "  ori_data = ori_data[idx]\n",
    "  generated_data = generated_data[idx]\n",
    "  \n",
    "  no, seq_len, dim = ori_data.shape  \n",
    "  \n",
    "  for i in range(anal_sample_no):\n",
    "    if (i == 0):\n",
    "      prep_data = np.reshape(np.mean(ori_data[0,:,:], 1), [1,seq_len])\n",
    "      prep_data_hat = np.reshape(np.mean(generated_data[0,:,:],1), [1,seq_len])\n",
    "    else:\n",
    "      prep_data = np.concatenate((prep_data, \n",
    "                                  np.reshape(np.mean(ori_data[i,:,:],1), [1,seq_len])))\n",
    "      prep_data_hat = np.concatenate((prep_data_hat, \n",
    "                                      np.reshape(np.mean(generated_data[i,:,:],1), [1,seq_len])))\n",
    "    \n",
    "  # Visualization parameter        \n",
    "  colors = [\"red\" for i in range(anal_sample_no)] + [\"blue\" for i in range(anal_sample_no)]    \n",
    "    \n",
    "  if analysis == 'pca':\n",
    "    # PCA Analysis\n",
    "    pca = PCA(n_components = 2)\n",
    "    pca.fit(prep_data)\n",
    "    pca_results = pca.transform(prep_data)\n",
    "    pca_hat_results = pca.transform(prep_data_hat)\n",
    "    \n",
    "    # Plotting\n",
    "    f, ax = plt.subplots(1)    \n",
    "    plt.scatter(pca_results[:,0], pca_results[:,1],\n",
    "                c = colors[:anal_sample_no], alpha = 0.2, label = \"Original\")\n",
    "    plt.scatter(pca_hat_results[:,0], pca_hat_results[:,1], \n",
    "                c = colors[anal_sample_no:], alpha = 0.2, label = \"Synthetic\")\n",
    "  \n",
    "    ax.legend()  \n",
    "    plt.title('PCA plot')\n",
    "    plt.xlabel('x-pca')\n",
    "    plt.ylabel('y_pca')\n",
    "    plt.show()\n",
    "    \n",
    "  elif analysis == 'tsne':\n",
    "    \n",
    "    # Do t-SNE Analysis together       \n",
    "    prep_data_final = np.concatenate((prep_data, prep_data_hat), axis = 0)\n",
    "    \n",
    "    # TSNE anlaysis\n",
    "    tsne = TSNE(n_components = 2, verbose = 1, perplexity = 40, n_iter = 300)\n",
    "    tsne_results = tsne.fit_transform(prep_data_final)\n",
    "      \n",
    "    # Plotting\n",
    "    f, ax = plt.subplots(1)\n",
    "      \n",
    "    plt.scatter(tsne_results[:anal_sample_no,0], tsne_results[:anal_sample_no,1], \n",
    "                c = colors[:anal_sample_no], alpha = 0.2, label = \"Original\")\n",
    "    plt.scatter(tsne_results[anal_sample_no:,0], tsne_results[anal_sample_no:,1], \n",
    "                c = colors[anal_sample_no:], alpha = 0.2, label = \"Synthetic\")\n",
    "  \n",
    "    ax.legend()\n",
    "      \n",
    "    plt.title('t-SNE plot')\n",
    "    plt.xlabel('x-tsne')\n",
    "    plt.ylabel('y_tsne')\n",
    "    plt.show()    "
   ]
  },
  {
   "cell_type": "code",
   "execution_count": 16,
   "metadata": {},
   "outputs": [],
   "source": [
    "original_data = pd.read_csv('../../../Dataset/stock_data.csv')\n",
    "fake_data = pd.read_csv('../../../GeneratedData/generated_samples_LSTM_without_CD_0_1.csv')"
   ]
  },
  {
   "cell_type": "code",
   "execution_count": 17,
   "metadata": {},
   "outputs": [],
   "source": [
    "original_data_values = original_data.to_numpy().reshape(original_data.shape[0], -1, 6)\n",
    "fake_data_values = fake_data.to_numpy().reshape(fake_data.shape[0], -1, 6)"
   ]
  },
  {
   "cell_type": "code",
   "execution_count": 18,
   "metadata": {},
   "outputs": [
    {
     "ename": "ValueError",
     "evalue": "cannot reshape array of size 4 into shape (1,1)",
     "output_type": "error",
     "traceback": [
      "\u001b[0;31m---------------------------------------------------------------------------\u001b[0m",
      "\u001b[0;31mValueError\u001b[0m                                Traceback (most recent call last)",
      "\u001b[0;32m/tmp/ipykernel_1317827/1130631244.py\u001b[0m in \u001b[0;36m<module>\u001b[0;34m\u001b[0m\n\u001b[0;32m----> 1\u001b[0;31m \u001b[0mvisualization\u001b[0m\u001b[0;34m(\u001b[0m\u001b[0moriginal_data_values\u001b[0m\u001b[0;34m,\u001b[0m \u001b[0mfake_data_values\u001b[0m\u001b[0;34m,\u001b[0m \u001b[0;34m'pca'\u001b[0m\u001b[0;34m)\u001b[0m\u001b[0;34m\u001b[0m\u001b[0;34m\u001b[0m\u001b[0m\n\u001b[0m",
      "\u001b[0;32m/tmp/ipykernel_1317827/2574400313.py\u001b[0m in \u001b[0;36mvisualization\u001b[0;34m(ori_data, generated_data, analysis)\u001b[0m\n\u001b[1;32m     24\u001b[0m     \u001b[0;32mif\u001b[0m \u001b[0;34m(\u001b[0m\u001b[0mi\u001b[0m \u001b[0;34m==\u001b[0m \u001b[0;36m0\u001b[0m\u001b[0;34m)\u001b[0m\u001b[0;34m:\u001b[0m\u001b[0;34m\u001b[0m\u001b[0;34m\u001b[0m\u001b[0m\n\u001b[1;32m     25\u001b[0m       \u001b[0mprep_data\u001b[0m \u001b[0;34m=\u001b[0m \u001b[0mnp\u001b[0m\u001b[0;34m.\u001b[0m\u001b[0mreshape\u001b[0m\u001b[0;34m(\u001b[0m\u001b[0mnp\u001b[0m\u001b[0;34m.\u001b[0m\u001b[0mmean\u001b[0m\u001b[0;34m(\u001b[0m\u001b[0mori_data\u001b[0m\u001b[0;34m[\u001b[0m\u001b[0;36m0\u001b[0m\u001b[0;34m,\u001b[0m\u001b[0;34m:\u001b[0m\u001b[0;34m,\u001b[0m\u001b[0;34m:\u001b[0m\u001b[0;34m]\u001b[0m\u001b[0;34m,\u001b[0m \u001b[0;36m1\u001b[0m\u001b[0;34m)\u001b[0m\u001b[0;34m,\u001b[0m \u001b[0;34m[\u001b[0m\u001b[0;36m1\u001b[0m\u001b[0;34m,\u001b[0m\u001b[0mseq_len\u001b[0m\u001b[0;34m]\u001b[0m\u001b[0;34m)\u001b[0m\u001b[0;34m\u001b[0m\u001b[0;34m\u001b[0m\u001b[0m\n\u001b[0;32m---> 26\u001b[0;31m       \u001b[0mprep_data_hat\u001b[0m \u001b[0;34m=\u001b[0m \u001b[0mnp\u001b[0m\u001b[0;34m.\u001b[0m\u001b[0mreshape\u001b[0m\u001b[0;34m(\u001b[0m\u001b[0mnp\u001b[0m\u001b[0;34m.\u001b[0m\u001b[0mmean\u001b[0m\u001b[0;34m(\u001b[0m\u001b[0mgenerated_data\u001b[0m\u001b[0;34m[\u001b[0m\u001b[0;36m0\u001b[0m\u001b[0;34m,\u001b[0m\u001b[0;34m:\u001b[0m\u001b[0;34m,\u001b[0m\u001b[0;34m:\u001b[0m\u001b[0;34m]\u001b[0m\u001b[0;34m,\u001b[0m\u001b[0;36m1\u001b[0m\u001b[0;34m)\u001b[0m\u001b[0;34m,\u001b[0m \u001b[0;34m[\u001b[0m\u001b[0;36m1\u001b[0m\u001b[0;34m,\u001b[0m\u001b[0mseq_len\u001b[0m\u001b[0;34m]\u001b[0m\u001b[0;34m)\u001b[0m\u001b[0;34m\u001b[0m\u001b[0;34m\u001b[0m\u001b[0m\n\u001b[0m\u001b[1;32m     27\u001b[0m     \u001b[0;32melse\u001b[0m\u001b[0;34m:\u001b[0m\u001b[0;34m\u001b[0m\u001b[0;34m\u001b[0m\u001b[0m\n\u001b[1;32m     28\u001b[0m       prep_data = np.concatenate((prep_data, \n",
      "\u001b[0;32m<__array_function__ internals>\u001b[0m in \u001b[0;36mreshape\u001b[0;34m(*args, **kwargs)\u001b[0m\n",
      "\u001b[0;32m~/anaconda3/envs/timeGAN/lib/python3.7/site-packages/numpy/core/fromnumeric.py\u001b[0m in \u001b[0;36mreshape\u001b[0;34m(a, newshape, order)\u001b[0m\n\u001b[1;32m    296\u001b[0m            [5, 6]])\n\u001b[1;32m    297\u001b[0m     \"\"\"\n\u001b[0;32m--> 298\u001b[0;31m     \u001b[0;32mreturn\u001b[0m \u001b[0m_wrapfunc\u001b[0m\u001b[0;34m(\u001b[0m\u001b[0ma\u001b[0m\u001b[0;34m,\u001b[0m \u001b[0;34m'reshape'\u001b[0m\u001b[0;34m,\u001b[0m \u001b[0mnewshape\u001b[0m\u001b[0;34m,\u001b[0m \u001b[0morder\u001b[0m\u001b[0;34m=\u001b[0m\u001b[0morder\u001b[0m\u001b[0;34m)\u001b[0m\u001b[0;34m\u001b[0m\u001b[0;34m\u001b[0m\u001b[0m\n\u001b[0m\u001b[1;32m    299\u001b[0m \u001b[0;34m\u001b[0m\u001b[0m\n\u001b[1;32m    300\u001b[0m \u001b[0;34m\u001b[0m\u001b[0m\n",
      "\u001b[0;32m~/anaconda3/envs/timeGAN/lib/python3.7/site-packages/numpy/core/fromnumeric.py\u001b[0m in \u001b[0;36m_wrapfunc\u001b[0;34m(obj, method, *args, **kwds)\u001b[0m\n\u001b[1;32m     55\u001b[0m \u001b[0;34m\u001b[0m\u001b[0m\n\u001b[1;32m     56\u001b[0m     \u001b[0;32mtry\u001b[0m\u001b[0;34m:\u001b[0m\u001b[0;34m\u001b[0m\u001b[0;34m\u001b[0m\u001b[0m\n\u001b[0;32m---> 57\u001b[0;31m         \u001b[0;32mreturn\u001b[0m \u001b[0mbound\u001b[0m\u001b[0;34m(\u001b[0m\u001b[0;34m*\u001b[0m\u001b[0margs\u001b[0m\u001b[0;34m,\u001b[0m \u001b[0;34m**\u001b[0m\u001b[0mkwds\u001b[0m\u001b[0;34m)\u001b[0m\u001b[0;34m\u001b[0m\u001b[0;34m\u001b[0m\u001b[0m\n\u001b[0m\u001b[1;32m     58\u001b[0m     \u001b[0;32mexcept\u001b[0m \u001b[0mTypeError\u001b[0m\u001b[0;34m:\u001b[0m\u001b[0;34m\u001b[0m\u001b[0;34m\u001b[0m\u001b[0m\n\u001b[1;32m     59\u001b[0m         \u001b[0;31m# A TypeError occurs if the object does have such a method in its\u001b[0m\u001b[0;34m\u001b[0m\u001b[0;34m\u001b[0m\u001b[0;34m\u001b[0m\u001b[0m\n",
      "\u001b[0;31mValueError\u001b[0m: cannot reshape array of size 4 into shape (1,1)"
     ]
    }
   ],
   "source": [
    "visualization(original_data_values, fake_data_values, 'pca')"
   ]
  },
  {
   "cell_type": "code",
   "execution_count": 10,
   "metadata": {},
   "outputs": [
    {
     "ename": "IndexError",
     "evalue": "index 2428 is out of bounds for axis 0 with size 1024",
     "output_type": "error",
     "traceback": [
      "\u001b[0;31m---------------------------------------------------------------------------\u001b[0m",
      "\u001b[0;31mIndexError\u001b[0m                                Traceback (most recent call last)",
      "\u001b[0;32m/tmp/ipykernel_1317827/2372920128.py\u001b[0m in \u001b[0;36m<module>\u001b[0;34m\u001b[0m\n\u001b[0;32m----> 1\u001b[0;31m \u001b[0mvisualization\u001b[0m\u001b[0;34m(\u001b[0m\u001b[0moriginal_data_values\u001b[0m\u001b[0;34m,\u001b[0m \u001b[0mfake_data_values\u001b[0m\u001b[0;34m,\u001b[0m \u001b[0;34m'tsne'\u001b[0m\u001b[0;34m)\u001b[0m\u001b[0;34m\u001b[0m\u001b[0;34m\u001b[0m\u001b[0m\n\u001b[0m",
      "\u001b[0;32m/tmp/ipykernel_1317827/2574400313.py\u001b[0m in \u001b[0;36mvisualization\u001b[0;34m(ori_data, generated_data, analysis)\u001b[0m\n\u001b[1;32m     17\u001b[0m \u001b[0;34m\u001b[0m\u001b[0m\n\u001b[1;32m     18\u001b[0m   \u001b[0mori_data\u001b[0m \u001b[0;34m=\u001b[0m \u001b[0mori_data\u001b[0m\u001b[0;34m[\u001b[0m\u001b[0midx\u001b[0m\u001b[0;34m]\u001b[0m\u001b[0;34m\u001b[0m\u001b[0;34m\u001b[0m\u001b[0m\n\u001b[0;32m---> 19\u001b[0;31m   \u001b[0mgenerated_data\u001b[0m \u001b[0;34m=\u001b[0m \u001b[0mgenerated_data\u001b[0m\u001b[0;34m[\u001b[0m\u001b[0midx\u001b[0m\u001b[0;34m]\u001b[0m\u001b[0;34m\u001b[0m\u001b[0;34m\u001b[0m\u001b[0m\n\u001b[0m\u001b[1;32m     20\u001b[0m \u001b[0;34m\u001b[0m\u001b[0m\n\u001b[1;32m     21\u001b[0m   \u001b[0mno\u001b[0m\u001b[0;34m,\u001b[0m \u001b[0mseq_len\u001b[0m\u001b[0;34m,\u001b[0m \u001b[0mdim\u001b[0m \u001b[0;34m=\u001b[0m \u001b[0mori_data\u001b[0m\u001b[0;34m.\u001b[0m\u001b[0mshape\u001b[0m\u001b[0;34m\u001b[0m\u001b[0;34m\u001b[0m\u001b[0m\n",
      "\u001b[0;31mIndexError\u001b[0m: index 2428 is out of bounds for axis 0 with size 1024"
     ]
    }
   ],
   "source": [
    "visualization(original_data_values, fake_data_values, 'tsne')"
   ]
  }
 ],
 "metadata": {
  "interpreter": {
   "hash": "795fc83421f890307230ebafb8698fb30ecd32bfacddc0880c6541ea65902590"
  },
  "kernelspec": {
   "display_name": "Python 3.9.7 ('research')",
   "language": "python",
   "name": "python3"
  },
  "language_info": {
   "codemirror_mode": {
    "name": "ipython",
    "version": 3
   },
   "file_extension": ".py",
   "mimetype": "text/x-python",
   "name": "python",
   "nbconvert_exporter": "python",
   "pygments_lexer": "ipython3",
   "version": "3.7.12"
  },
  "orig_nbformat": 4
 },
 "nbformat": 4,
 "nbformat_minor": 2
}
